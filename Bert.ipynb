{
 "cells": [
  {
   "cell_type": "code",
   "execution_count": 1,
   "metadata": {},
   "outputs": [
    {
     "name": "stderr",
     "output_type": "stream",
     "text": [
      "c:\\Users\\mikew\\miniconda3\\Lib\\site-packages\\tqdm\\auto.py:21: TqdmWarning: IProgress not found. Please update jupyter and ipywidgets. See https://ipywidgets.readthedocs.io/en/stable/user_install.html\n",
      "  from .autonotebook import tqdm as notebook_tqdm\n"
     ]
    }
   ],
   "source": [
    "import numpy as np\n",
    "import pandas as pd\n",
    "import os\n",
    "import random\n",
    "import time\n",
    "\n",
    "import re\n",
    "import string\n",
    "import nltk\n",
    "from nltk.corpus import stopwords\n",
    "\n",
    "import matplotlib.pyplot as plt\n",
    "import seaborn as sns\n",
    "sns.set(style=\"ticks\", context=\"talk\")\n",
    "plt.style.use('dark_background')\n",
    "\n",
    "from tqdm import tqdm\n",
    "\n",
    "import torch\n",
    "import torch.nn as nn\n",
    "import torch.nn.functional as func\n",
    "from torch.utils.data import dataloader, dataset\n",
    "\n",
    "from transformers import AdamW, get_linear_schedule_with_warmup, BertTokenizer\n",
    "from transformers import Trainer, TrainingArguments, BertForSequenceClassification\n",
    "\n",
    "\n",
    "from sklearn.metrics import f1_score, mean_squared_error, roc_auc_score, roc_curve, auc\n",
    "from sklearn.model_selection import KFold, train_test_split\n",
    "from sklearn.preprocessing import LabelEncoder\n",
    "\n",
    "import warnings\n",
    "warnings.simplefilter('ignore')"
   ]
  },
  {
   "cell_type": "code",
   "execution_count": 2,
   "metadata": {},
   "outputs": [],
   "source": [
    "tokenizer = BertTokenizer.from_pretrained('bert-base-uncased')\n",
    "label_encoder = LabelEncoder()"
   ]
  },
  {
   "cell_type": "code",
   "execution_count": 3,
   "metadata": {},
   "outputs": [
    {
     "name": "stdout",
     "output_type": "stream",
     "text": [
      "20678\n",
      "16542\n",
      "4136\n"
     ]
    }
   ],
   "source": [
    "# dataset process\n",
    "df = pd.read_csv(\"./datasets/dataset.csv\")\n",
    "input_txt = df['Sentence'].tolist()\n",
    "labels = df['label'].tolist()\n",
    "print(len(labels))\n",
    "train_txt, val_txt, train_l_txt, val_l_txt = train_test_split(\n",
    "    input_txt, labels, test_size=0.2, random_state=42\n",
    ")\n",
    "train_len = len(train_txt)\n",
    "print(train_len)\n",
    "val_len = len(val_txt)\n",
    "print(val_len)"
   ]
  },
  {
   "cell_type": "code",
   "execution_count": 4,
   "metadata": {},
   "outputs": [],
   "source": [
    "train_inputs = tokenizer(train_txt, padding='max_length', truncation=True, max_length=128, return_tensors=\"pt\")\n",
    "valid_inputs = tokenizer(val_txt, padding='max_length', truncation=True, max_length=128, return_tensors=\"pt\")\n",
    "\n",
    "train_labels = label_encoder.fit_transform(train_l_txt)\n",
    "train_labels = torch.tensor(train_labels)\n",
    "val_labels = label_encoder.fit_transform(val_l_txt)\n",
    "val_labels = torch.tensor(val_labels)\n"
   ]
  },
  {
   "cell_type": "code",
   "execution_count": 5,
   "metadata": {},
   "outputs": [
    {
     "name": "stdout",
     "output_type": "stream",
     "text": [
      "Original: apple -> Encoded: 0\n",
      "Original: calculator -> Encoded: 1\n",
      "Original: candle -> Encoded: 2\n",
      "Original: coffee capsules -> Encoded: 3\n",
      "Original: cream cheese -> Encoded: 4\n",
      "Original: light bulb -> Encoded: 5\n",
      "Original: milk -> Encoded: 6\n",
      "Original: pumpkin -> Encoded: 7\n",
      "Original: slippers -> Encoded: 8\n",
      "Original: toothpaste -> Encoded: 9\n"
     ]
    }
   ],
   "source": [
    "for original, encoded in zip(label_encoder.classes_, range(len(label_encoder.classes_))):\n",
    "    print(f\"Original: {original} -> Encoded: {encoded}\")"
   ]
  },
  {
   "cell_type": "code",
   "execution_count": 6,
   "metadata": {},
   "outputs": [],
   "source": [
    "labels = ['apple', 'calculator', 'candle', 'coffee', 'cream cheese', 'light bulb', 'milk', 'pumpkin', 'slippers', 'toothpaste']"
   ]
  },
  {
   "cell_type": "code",
   "execution_count": 7,
   "metadata": {},
   "outputs": [
    {
     "name": "stdout",
     "output_type": "stream",
     "text": [
      "16542\n",
      "16542\n",
      "tensor([3, 5, 9,  ..., 2, 2, 7])\n"
     ]
    }
   ],
   "source": [
    "print(len(train_inputs['input_ids']))\n",
    "# print(valid_inputs)\n",
    "print(len(set(train_labels)))\n",
    "print(train_labels)"
   ]
  },
  {
   "cell_type": "code",
   "execution_count": 8,
   "metadata": {},
   "outputs": [
    {
     "name": "stdout",
     "output_type": "stream",
     "text": [
      "key is: input_ids, value is tensor([[ 101, 2073, 2003,  ...,    0,    0,    0],\n",
      "        [ 101, 2064, 1045,  ...,    0,    0,    0],\n",
      "        [ 101, 2079, 2017,  ...,    0,    0,    0],\n",
      "        ...,\n",
      "        [ 101, 2064, 1045,  ...,    0,    0,    0],\n",
      "        [ 101, 2073, 2064,  ...,    0,    0,    0],\n",
      "        [ 101, 2073, 2079,  ...,    0,    0,    0]])\n",
      "key is: token_type_ids, value is tensor([[0, 0, 0,  ..., 0, 0, 0],\n",
      "        [0, 0, 0,  ..., 0, 0, 0],\n",
      "        [0, 0, 0,  ..., 0, 0, 0],\n",
      "        ...,\n",
      "        [0, 0, 0,  ..., 0, 0, 0],\n",
      "        [0, 0, 0,  ..., 0, 0, 0],\n",
      "        [0, 0, 0,  ..., 0, 0, 0]])\n",
      "key is: attention_mask, value is tensor([[1, 1, 1,  ..., 0, 0, 0],\n",
      "        [1, 1, 1,  ..., 0, 0, 0],\n",
      "        [1, 1, 1,  ..., 0, 0, 0],\n",
      "        ...,\n",
      "        [1, 1, 1,  ..., 0, 0, 0],\n",
      "        [1, 1, 1,  ..., 0, 0, 0],\n",
      "        [1, 1, 1,  ..., 0, 0, 0]])\n"
     ]
    }
   ],
   "source": [
    "for key, val in enumerate(train_inputs):\n",
    "    print(f\"key is: {val}, value is {train_inputs[val]}\")"
   ]
  },
  {
   "cell_type": "code",
   "execution_count": 9,
   "metadata": {},
   "outputs": [],
   "source": [
    "class BertDataSet(dataset.Dataset):\n",
    "    def __init__(self, encodings, length, labels = None, is_test = False):\n",
    "        self.is_test = is_test\n",
    "        self.length = length\n",
    "        if self.is_test:\n",
    "            self.encodings = encodings\n",
    "        else: \n",
    "            self.encodings = encodings\n",
    "            self.labels = labels\n",
    "    def __len__(self):\n",
    "        return self.length\n",
    "    def __getitem__(self, idx):\n",
    "        '''item: dict('input_ids', 'attention_mask', 'token_type_ids', 'labels')'''\n",
    "        item = {}\n",
    "        for key, val in enumerate(self.encodings):\n",
    "            item[val] = torch.tensor(self.encodings[val][idx])\n",
    "        # item = {key: torch.tensor(val[idx]) for key, val in self.encodings}\n",
    "        if self.is_test == False:\n",
    "            item['labels'] = torch.tensor(self.labels[idx])\n",
    "        return item\n",
    "    "
   ]
  },
  {
   "cell_type": "code",
   "execution_count": 10,
   "metadata": {},
   "outputs": [],
   "source": [
    "train_dataset = BertDataSet(train_inputs, length=train_len, labels=train_labels)\n",
    "valid_dataset = BertDataSet(valid_inputs, length=val_len, labels=val_labels)\n",
    "\n"
   ]
  },
  {
   "cell_type": "code",
   "execution_count": 11,
   "metadata": {},
   "outputs": [
    {
     "name": "stdout",
     "output_type": "stream",
     "text": [
      "{'input_ids': tensor([  101,  2073,  2003,  1996,  4157, 18269,  2015,  2930,  1029,   102,\n",
      "            0,     0,     0,     0,     0,     0,     0,     0,     0,     0,\n",
      "            0,     0,     0,     0,     0,     0,     0,     0,     0,     0,\n",
      "            0,     0,     0,     0,     0,     0,     0,     0,     0,     0,\n",
      "            0,     0,     0,     0,     0,     0,     0,     0,     0,     0,\n",
      "            0,     0,     0,     0,     0,     0,     0,     0,     0,     0,\n",
      "            0,     0,     0,     0,     0,     0,     0,     0,     0,     0,\n",
      "            0,     0,     0,     0,     0,     0,     0,     0,     0,     0,\n",
      "            0,     0,     0,     0,     0,     0,     0,     0,     0,     0,\n",
      "            0,     0,     0,     0,     0,     0,     0,     0,     0,     0,\n",
      "            0,     0,     0,     0,     0,     0,     0,     0,     0,     0,\n",
      "            0,     0,     0,     0,     0,     0,     0,     0,     0,     0,\n",
      "            0,     0,     0,     0,     0,     0,     0,     0]), 'token_type_ids': tensor([0, 0, 0, 0, 0, 0, 0, 0, 0, 0, 0, 0, 0, 0, 0, 0, 0, 0, 0, 0, 0, 0, 0, 0,\n",
      "        0, 0, 0, 0, 0, 0, 0, 0, 0, 0, 0, 0, 0, 0, 0, 0, 0, 0, 0, 0, 0, 0, 0, 0,\n",
      "        0, 0, 0, 0, 0, 0, 0, 0, 0, 0, 0, 0, 0, 0, 0, 0, 0, 0, 0, 0, 0, 0, 0, 0,\n",
      "        0, 0, 0, 0, 0, 0, 0, 0, 0, 0, 0, 0, 0, 0, 0, 0, 0, 0, 0, 0, 0, 0, 0, 0,\n",
      "        0, 0, 0, 0, 0, 0, 0, 0, 0, 0, 0, 0, 0, 0, 0, 0, 0, 0, 0, 0, 0, 0, 0, 0,\n",
      "        0, 0, 0, 0, 0, 0, 0, 0]), 'attention_mask': tensor([1, 1, 1, 1, 1, 1, 1, 1, 1, 1, 0, 0, 0, 0, 0, 0, 0, 0, 0, 0, 0, 0, 0, 0,\n",
      "        0, 0, 0, 0, 0, 0, 0, 0, 0, 0, 0, 0, 0, 0, 0, 0, 0, 0, 0, 0, 0, 0, 0, 0,\n",
      "        0, 0, 0, 0, 0, 0, 0, 0, 0, 0, 0, 0, 0, 0, 0, 0, 0, 0, 0, 0, 0, 0, 0, 0,\n",
      "        0, 0, 0, 0, 0, 0, 0, 0, 0, 0, 0, 0, 0, 0, 0, 0, 0, 0, 0, 0, 0, 0, 0, 0,\n",
      "        0, 0, 0, 0, 0, 0, 0, 0, 0, 0, 0, 0, 0, 0, 0, 0, 0, 0, 0, 0, 0, 0, 0, 0,\n",
      "        0, 0, 0, 0, 0, 0, 0, 0]), 'labels': tensor(3)}\n"
     ]
    }
   ],
   "source": [
    "for data in train_dataset:\n",
    "    print(data)\n",
    "    break"
   ]
  },
  {
   "cell_type": "code",
   "execution_count": 12,
   "metadata": {},
   "outputs": [
    {
     "name": "stdout",
     "output_type": "stream",
     "text": [
      "The devices using is : cuda\n"
     ]
    },
    {
     "name": "stderr",
     "output_type": "stream",
     "text": [
      "Some weights of BertForSequenceClassification were not initialized from the model checkpoint at bert-base-uncased and are newly initialized: ['classifier.bias', 'classifier.weight']\n",
      "You should probably TRAIN this model on a down-stream task to be able to use it for predictions and inference.\n"
     ]
    }
   ],
   "source": [
    "\n",
    "device = torch.device('cuda' if torch.cuda.is_available() else 'cpu')\n",
    "print(f\"The devices using is : {device}\")\n",
    "\n",
    "model = BertForSequenceClassification.from_pretrained('bert-base-uncased', num_labels=10).to(device)\n",
    "loss_fn = nn.CrossEntropyLoss()\n",
    "loss_fn.to(device)\n",
    "LR  = 1e-7\n",
    "batch_size = 64\n",
    "\n",
    "\n",
    "epochs = 10\n",
    "optimizer = AdamW(model.parameters(), LR, betas = (0.9, 0.999), weight_decay = 1e-2)"
   ]
  },
  {
   "cell_type": "code",
   "execution_count": 13,
   "metadata": {},
   "outputs": [],
   "source": [
    "train_dataloader = dataloader.DataLoader(train_dataset, batch_size=batch_size, shuffle=True)\n",
    "valid_dataloader = dataloader.DataLoader(valid_dataset, batch_size=batch_size)\n",
    "\n"
   ]
  },
  {
   "cell_type": "code",
   "execution_count": 14,
   "metadata": {},
   "outputs": [
    {
     "name": "stdout",
     "output_type": "stream",
     "text": [
      "{'input_ids': tensor([[ 101, 2064, 1045,  ...,    0,    0,    0],\n",
      "        [ 101, 2073, 2064,  ...,    0,    0,    0],\n",
      "        [ 101, 1045, 2342,  ...,    0,    0,    0],\n",
      "        ...,\n",
      "        [ 101, 1045, 1521,  ...,    0,    0,    0],\n",
      "        [ 101, 2003, 2422,  ...,    0,    0,    0],\n",
      "        [ 101, 2064, 1045,  ...,    0,    0,    0]]), 'token_type_ids': tensor([[0, 0, 0,  ..., 0, 0, 0],\n",
      "        [0, 0, 0,  ..., 0, 0, 0],\n",
      "        [0, 0, 0,  ..., 0, 0, 0],\n",
      "        ...,\n",
      "        [0, 0, 0,  ..., 0, 0, 0],\n",
      "        [0, 0, 0,  ..., 0, 0, 0],\n",
      "        [0, 0, 0,  ..., 0, 0, 0]]), 'attention_mask': tensor([[1, 1, 1,  ..., 0, 0, 0],\n",
      "        [1, 1, 1,  ..., 0, 0, 0],\n",
      "        [1, 1, 1,  ..., 0, 0, 0],\n",
      "        ...,\n",
      "        [1, 1, 1,  ..., 0, 0, 0],\n",
      "        [1, 1, 1,  ..., 0, 0, 0],\n",
      "        [1, 1, 1,  ..., 0, 0, 0]]), 'labels': tensor([6, 0, 5, 1, 3, 2, 5, 4, 2, 5, 0, 8, 9, 1, 4, 1, 4, 8, 4, 6, 2, 0, 0, 5,\n",
      "        7, 3, 4, 9, 6, 6, 4, 4, 7, 2, 9, 5, 7, 4, 7, 3, 0, 3, 0, 9, 2, 4, 1, 7,\n",
      "        6, 6, 0, 0, 9, 2, 5, 0, 7, 2, 9, 0, 4, 9, 5, 8])}\n"
     ]
    }
   ],
   "source": [
    "for data in train_dataloader:\n",
    "    print(data)\n",
    "    break"
   ]
  },
  {
   "cell_type": "code",
   "execution_count": 15,
   "metadata": {},
   "outputs": [
    {
     "name": "stdout",
     "output_type": "stream",
     "text": [
      "Epoch 1/10\n"
     ]
    },
    {
     "name": "stderr",
     "output_type": "stream",
     "text": [
      "100%|██████████| 259/259 [01:39<00:00,  2.61it/s]\n"
     ]
    },
    {
     "name": "stdout",
     "output_type": "stream",
     "text": [
      "Training loss: 2.2595863342285156, Training accuracy: 0.1147986942328618\n"
     ]
    },
    {
     "name": "stderr",
     "output_type": "stream",
     "text": [
      "100%|██████████| 65/65 [02:45<00:00,  2.55s/it]\n"
     ]
    },
    {
     "name": "stdout",
     "output_type": "stream",
     "text": [
      "validation loss: 2.297741413116455, validation accuracy: 0.13201160541586074\n",
      "Epoch 2/10\n"
     ]
    },
    {
     "name": "stderr",
     "output_type": "stream",
     "text": [
      "100%|██████████| 259/259 [02:24<00:00,  1.79it/s]\n"
     ]
    },
    {
     "name": "stdout",
     "output_type": "stream",
     "text": [
      "Training loss: 2.2325892448425293, Training accuracy: 0.14006770644420263\n"
     ]
    },
    {
     "name": "stderr",
     "output_type": "stream",
     "text": [
      "100%|██████████| 65/65 [02:51<00:00,  2.63s/it]\n"
     ]
    },
    {
     "name": "stdout",
     "output_type": "stream",
     "text": [
      "validation loss: 2.290881395339966, validation accuracy: 0.17190522243713732\n",
      "Epoch 3/10\n"
     ]
    },
    {
     "name": "stderr",
     "output_type": "stream",
     "text": [
      "100%|██████████| 259/259 [02:36<00:00,  1.66it/s]\n"
     ]
    },
    {
     "name": "stdout",
     "output_type": "stream",
     "text": [
      "Training loss: 2.220965623855591, Training accuracy: 0.1765203723854431\n"
     ]
    },
    {
     "name": "stderr",
     "output_type": "stream",
     "text": [
      "100%|██████████| 65/65 [02:50<00:00,  2.62s/it]\n"
     ]
    },
    {
     "name": "stdout",
     "output_type": "stream",
     "text": [
      "validation loss: 2.278289318084717, validation accuracy: 0.23065764023210833\n",
      "Epoch 4/10\n"
     ]
    },
    {
     "name": "stderr",
     "output_type": "stream",
     "text": [
      "100%|██████████| 259/259 [02:24<00:00,  1.79it/s]\n"
     ]
    },
    {
     "name": "stdout",
     "output_type": "stream",
     "text": [
      "Training loss: 2.0936663150787354, Training accuracy: 0.22143634385201305\n"
     ]
    },
    {
     "name": "stderr",
     "output_type": "stream",
     "text": [
      "100%|██████████| 65/65 [02:50<00:00,  2.62s/it]\n"
     ]
    },
    {
     "name": "stdout",
     "output_type": "stream",
     "text": [
      "validation loss: 2.26835560798645, validation accuracy: 0.26499032882011603\n",
      "Epoch 5/10\n"
     ]
    },
    {
     "name": "stderr",
     "output_type": "stream",
     "text": [
      "100%|██████████| 259/259 [02:27<00:00,  1.76it/s]\n"
     ]
    },
    {
     "name": "stdout",
     "output_type": "stream",
     "text": [
      "Training loss: 1.9457128047943115, Training accuracy: 0.27626647321968323\n"
     ]
    },
    {
     "name": "stderr",
     "output_type": "stream",
     "text": [
      "100%|██████████| 65/65 [02:49<00:00,  2.61s/it]\n"
     ]
    },
    {
     "name": "stdout",
     "output_type": "stream",
     "text": [
      "validation loss: 2.257899284362793, validation accuracy: 0.3498549323017408\n",
      "Epoch 6/10\n"
     ]
    },
    {
     "name": "stderr",
     "output_type": "stream",
     "text": [
      "100%|██████████| 259/259 [02:32<00:00,  1.69it/s]\n"
     ]
    },
    {
     "name": "stdout",
     "output_type": "stream",
     "text": [
      "Training loss: 1.9376276731491089, Training accuracy: 0.33067343731108695\n"
     ]
    },
    {
     "name": "stderr",
     "output_type": "stream",
     "text": [
      "100%|██████████| 65/65 [02:50<00:00,  2.62s/it]\n"
     ]
    },
    {
     "name": "stdout",
     "output_type": "stream",
     "text": [
      "validation loss: 2.2481296062469482, validation accuracy: 0.4480174081237911\n",
      "Epoch 7/10\n"
     ]
    },
    {
     "name": "stderr",
     "output_type": "stream",
     "text": [
      "100%|██████████| 259/259 [02:26<00:00,  1.77it/s]\n"
     ]
    },
    {
     "name": "stdout",
     "output_type": "stream",
     "text": [
      "Training loss: 1.8148350715637207, Training accuracy: 0.4037601257405392\n"
     ]
    },
    {
     "name": "stderr",
     "output_type": "stream",
     "text": [
      "100%|██████████| 65/65 [02:49<00:00,  2.61s/it]\n"
     ]
    },
    {
     "name": "stdout",
     "output_type": "stream",
     "text": [
      "validation loss: 2.2377045154571533, validation accuracy: 0.565522243713733\n",
      "Epoch 8/10\n"
     ]
    },
    {
     "name": "stderr",
     "output_type": "stream",
     "text": [
      "100%|██████████| 259/259 [02:24<00:00,  1.79it/s]\n"
     ]
    },
    {
     "name": "stdout",
     "output_type": "stream",
     "text": [
      "Training loss: 1.7930870056152344, Training accuracy: 0.48416152823116915\n"
     ]
    },
    {
     "name": "stderr",
     "output_type": "stream",
     "text": [
      "100%|██████████| 65/65 [02:49<00:00,  2.61s/it]\n"
     ]
    },
    {
     "name": "stdout",
     "output_type": "stream",
     "text": [
      "validation loss: 2.2269089221954346, validation accuracy: 0.6460348162475822\n",
      "Epoch 9/10\n"
     ]
    },
    {
     "name": "stderr",
     "output_type": "stream",
     "text": [
      "100%|██████████| 259/259 [02:28<00:00,  1.74it/s]\n"
     ]
    },
    {
     "name": "stdout",
     "output_type": "stream",
     "text": [
      "Training loss: 1.7703337669372559, Training accuracy: 0.5678273485672832\n"
     ]
    },
    {
     "name": "stderr",
     "output_type": "stream",
     "text": [
      "100%|██████████| 65/65 [02:49<00:00,  2.61s/it]\n"
     ]
    },
    {
     "name": "stdout",
     "output_type": "stream",
     "text": [
      "validation loss: 2.2127180099487305, validation accuracy: 0.7521760154738878\n",
      "Epoch 10/10\n"
     ]
    },
    {
     "name": "stderr",
     "output_type": "stream",
     "text": [
      "100%|██████████| 259/259 [02:32<00:00,  1.70it/s]\n"
     ]
    },
    {
     "name": "stdout",
     "output_type": "stream",
     "text": [
      "Training loss: 1.6747595071792603, Training accuracy: 0.6317253052835208\n"
     ]
    },
    {
     "name": "stderr",
     "output_type": "stream",
     "text": [
      "100%|██████████| 65/65 [02:49<00:00,  2.61s/it]"
     ]
    },
    {
     "name": "stdout",
     "output_type": "stream",
     "text": [
      "validation loss: 2.1956779956817627, validation accuracy: 0.8213249516441006\n"
     ]
    },
    {
     "name": "stderr",
     "output_type": "stream",
     "text": [
      "\n"
     ]
    }
   ],
   "source": [
    "# training\n",
    "train_loss_plot = []\n",
    "val_loss_plot = []\n",
    "train_acc_plot = []\n",
    "val_acc_plot = []\n",
    "for epoch in range(epochs):\n",
    "    print(f\"Epoch {epoch+1}/{epochs}\")\n",
    "    correct = 0\n",
    "    total = 0\n",
    "\n",
    "    model.train()\n",
    "    torch.backends.cudnn.benchmark = True\n",
    "    correct_predictions = 0\n",
    "    for batch in tqdm(train_dataloader):\n",
    "        losses = []\n",
    "        optimizer.zero_grad()\n",
    "        with torch.cuda.amp.autocast():\n",
    "\n",
    "            batch_ids = batch[\"input_ids\"].to(device, non_blocking = True)\n",
    "            batch_mask = batch[\"attention_mask\"].to(device, non_blocking = True)\n",
    "\n",
    "            output = model(batch_ids, batch_mask) \n",
    "            output = output['logits'].squeeze(-1).to(torch.float32)\n",
    "            \n",
    "\n",
    "            output_probs = torch.softmax(output, dim=1)\n",
    "            _, predicted = torch.max(output_probs, 1)\n",
    "            \n",
    "            # print(output_probs.shape)\n",
    "\n",
    "            batch_labels = batch['labels'].to(device, non_blocking = True) \n",
    "            # print(f\"output is: {output.shape}, labels are: {batch_labels}\")\n",
    "            \n",
    "\n",
    "            loss = loss_fn(output, batch_labels)\n",
    "            losses.append(loss.item())\n",
    "            # preds = torch.max(output_probs)\n",
    "            # print(output_probs)\n",
    "        \n",
    "            # correct_predictions += torch.sum(preds == batch_labels)\n",
    "        loss.backward()\n",
    "        optimizer.step()\n",
    "        total += batch_labels.size(0)\n",
    "        correct += (predicted == batch_labels).sum().item()\n",
    "            \n",
    "\n",
    "    avg_train_loss = np.mean(losses)\n",
    "    training_accuracy = correct / total\n",
    "    # correctness = correct_predictions.detach().cpu().numpy()\n",
    "    # train_accuracy = correctness/(len(train_labels))\n",
    "    train_loss_plot.append(avg_train_loss)\n",
    "    train_acc_plot.append(training_accuracy)\n",
    "    print(f\"Training loss: {avg_train_loss}, Training accuracy: {training_accuracy}\")\n",
    "\n",
    "\n",
    "    # validation\n",
    "    model.eval()\n",
    "    correct_val = 0\n",
    "    total_val = 0\n",
    "    all_output_probs = []\n",
    "\n",
    "    for batch in tqdm(valid_dataloader):\n",
    "        losses = []\n",
    "        batch_ids = batch[\"input_ids\"].to(device, non_blocking = True)\n",
    "        batch_mask = batch[\"attention_mask\"].to(device, non_blocking = True)\n",
    "        with torch.no_grad():\n",
    "            output = model(batch_ids, batch_mask)\n",
    "        \n",
    "        output = output['logits'].squeeze(-1).to(torch.float32)\n",
    "        \n",
    "        output_probs = torch.softmax(output, dim=1)\n",
    "\n",
    "        # preds = torch.max(output_probs)\n",
    "        _, predicted = torch.max(output_probs, 1)\n",
    "\n",
    "        batch_labels = batch['labels'].to(device, non_blocking = True) \n",
    "\n",
    "        loss = loss_fn(output_probs, batch_labels)\n",
    "        losses.append(loss.item())\n",
    "\n",
    "        # all_output_probs.extend(output_probs.detach().cpu().numpy())\n",
    "        total_val += batch_labels.size(0)\n",
    "        correct_val += (predicted == batch_labels).sum().item()\n",
    "        # correct_predictions += torch.sum(preds == batch_labels)\n",
    "    \n",
    "    avg_val_loss = np.mean(losses)\n",
    "    val_accuracy = correct_val / total_val\n",
    "    # correctness = correct_predictions.detach().cpu().numpy()\n",
    "    # val_accuracy = correctness/(len(train_labels))\n",
    "\n",
    "\n",
    "\n",
    "    # accuracy = accuracy_score(labels, preds)\n",
    "    val_loss_plot.append(avg_val_loss)\n",
    "    val_acc_plot.append(val_accuracy)\n",
    "    print(f\"validation loss: {avg_val_loss}, validation accuracy: {val_accuracy}\")\n",
    "\n",
    "            "
   ]
  },
  {
   "cell_type": "code",
   "execution_count": 23,
   "metadata": {},
   "outputs": [],
   "source": [
    "# save model\n",
    "torch.save(model.state_dict(), 'Bert_state.pth')"
   ]
  },
  {
   "cell_type": "code",
   "execution_count": 17,
   "metadata": {},
   "outputs": [
    {
     "data": {
      "image/png": "[encoded data removed]",
      "text/plain": [
       "<Figure size 640x480 with 1 Axes>"
      ]
     },
     "metadata": {},
     "output_type": "display_data"
    }
   ],
   "source": [
    "# visualize loss and accuracy\n",
    "\n",
    " \n",
    "\n",
    "plt.plot(train_loss_plot, label='training loss', color='blue', marker='o')  # First line\n",
    "plt.plot(val_loss_plot, label='validation loss', color='red', linestyle='--', marker='s')  # Second line\n",
    "\n",
    "# Adding details\n",
    "plt.title(\"loss graph\")\n",
    "plt.xlabel(\"Epochs\")\n",
    "plt.ylabel(\"loss\")\n",
    "plt.legend()  # Add legend to distinguish lines\n",
    "plt.grid(True)\n",
    "plt.show()"
   ]
  },
  {
   "cell_type": "code",
   "execution_count": 18,
   "metadata": {},
   "outputs": [
    {
     "data": {
      "image/png": "[encoded data removed]",
      "text/plain": [
       "<Figure size 640x480 with 1 Axes>"
      ]
     },
     "metadata": {},
     "output_type": "display_data"
    }
   ],
   "source": [
    "\n",
    "plt.plot(train_acc_plot, label='training loss', color='blue', marker='o')  # First line\n",
    "plt.plot(val_acc_plot, label='validation loss', color='red', linestyle='--', marker='s')  # Second line\n",
    "\n",
    "# Adding details\n",
    "plt.title(\"accuracy graph\")\n",
    "plt.xlabel(\"Epochs\")\n",
    "plt.ylabel(\"accuracy\")\n",
    "plt.legend()  # Add legend to distinguish lines\n",
    "plt.grid(True)\n",
    "plt.show()"
   ]
  },
  {
   "cell_type": "code",
   "execution_count": 19,
   "metadata": {},
   "outputs": [
    {
     "name": "stdout",
     "output_type": "stream",
     "text": [
      "The devices using is : cuda\n"
     ]
    },
    {
     "name": "stderr",
     "output_type": "stream",
     "text": [
      "Some weights of BertForSequenceClassification were not initialized from the model checkpoint at bert-base-uncased and are newly initialized: ['classifier.bias', 'classifier.weight']\n",
      "You should probably TRAIN this model on a down-stream task to be able to use it for predictions and inference.\n"
     ]
    }
   ],
   "source": [
    "device = torch.device('cuda' if torch.cuda.is_available() else 'cpu')\n",
    "print(f\"The devices using is : {device}\")\n",
    "\n",
    "model = BertForSequenceClassification.from_pretrained('bert-base-uncased', num_labels=10).to(device)\n",
    "loss_fn = nn.CrossEntropyLoss()\n",
    "loss_fn.to(device)\n",
    "LR  = 1e-5\n",
    "batch_size = 64\n",
    "\n",
    "\n",
    "epochs = 10\n",
    "optimizer = AdamW(model.parameters(), LR, betas = (0.9, 0.999), weight_decay = 1e-2)"
   ]
  },
  {
   "cell_type": "code",
   "execution_count": 20,
   "metadata": {},
   "outputs": [
    {
     "name": "stdout",
     "output_type": "stream",
     "text": [
      "Epoch 1/10\n"
     ]
    },
    {
     "name": "stderr",
     "output_type": "stream",
     "text": [
      "100%|██████████| 259/259 [02:25<00:00,  1.79it/s]\n"
     ]
    },
    {
     "name": "stdout",
     "output_type": "stream",
     "text": [
      "Training loss: 0.09066545963287354, Training accuracy: 0.9090194656027083\n"
     ]
    },
    {
     "name": "stderr",
     "output_type": "stream",
     "text": [
      "100%|██████████| 65/65 [02:51<00:00,  2.63s/it]\n"
     ]
    },
    {
     "name": "stdout",
     "output_type": "stream",
     "text": [
      "validation loss: 1.5152478218078613, validation accuracy: 1.0\n",
      "Epoch 2/10\n"
     ]
    },
    {
     "name": "stderr",
     "output_type": "stream",
     "text": [
      "100%|██████████| 259/259 [02:27<00:00,  1.76it/s]\n"
     ]
    },
    {
     "name": "stdout",
     "output_type": "stream",
     "text": [
      "Training loss: 0.029744569212198257, Training accuracy: 1.0\n"
     ]
    },
    {
     "name": "stderr",
     "output_type": "stream",
     "text": [
      "100%|██████████| 65/65 [02:51<00:00,  2.63s/it]\n"
     ]
    },
    {
     "name": "stdout",
     "output_type": "stream",
     "text": [
      "validation loss: 1.4782943725585938, validation accuracy: 1.0\n",
      "Epoch 3/10\n"
     ]
    },
    {
     "name": "stderr",
     "output_type": "stream",
     "text": [
      "100%|██████████| 259/259 [02:31<00:00,  1.71it/s]\n"
     ]
    },
    {
     "name": "stdout",
     "output_type": "stream",
     "text": [
      "Training loss: 0.015053045935928822, Training accuracy: 1.0\n"
     ]
    },
    {
     "name": "stderr",
     "output_type": "stream",
     "text": [
      "100%|██████████| 65/65 [02:51<00:00,  2.63s/it]\n"
     ]
    },
    {
     "name": "stdout",
     "output_type": "stream",
     "text": [
      "validation loss: 1.4701683521270752, validation accuracy: 1.0\n",
      "Epoch 4/10\n"
     ]
    },
    {
     "name": "stderr",
     "output_type": "stream",
     "text": [
      "100%|██████████| 259/259 [02:34<00:00,  1.67it/s]\n"
     ]
    },
    {
     "name": "stdout",
     "output_type": "stream",
     "text": [
      "Training loss: 0.010150179266929626, Training accuracy: 1.0\n"
     ]
    },
    {
     "name": "stderr",
     "output_type": "stream",
     "text": [
      "100%|██████████| 65/65 [02:51<00:00,  2.63s/it]\n"
     ]
    },
    {
     "name": "stdout",
     "output_type": "stream",
     "text": [
      "validation loss: 1.4668704271316528, validation accuracy: 1.0\n",
      "Epoch 5/10\n"
     ]
    },
    {
     "name": "stderr",
     "output_type": "stream",
     "text": [
      "100%|██████████| 259/259 [02:25<00:00,  1.78it/s]\n"
     ]
    },
    {
     "name": "stdout",
     "output_type": "stream",
     "text": [
      "Training loss: 0.007110774517059326, Training accuracy: 1.0\n"
     ]
    },
    {
     "name": "stderr",
     "output_type": "stream",
     "text": [
      "100%|██████████| 65/65 [02:51<00:00,  2.64s/it]\n"
     ]
    },
    {
     "name": "stdout",
     "output_type": "stream",
     "text": [
      "validation loss: 1.4651378393173218, validation accuracy: 1.0\n",
      "Epoch 6/10\n"
     ]
    },
    {
     "name": "stderr",
     "output_type": "stream",
     "text": [
      "100%|██████████| 259/259 [02:26<00:00,  1.76it/s]\n"
     ]
    },
    {
     "name": "stdout",
     "output_type": "stream",
     "text": [
      "Training loss: 0.004929342772811651, Training accuracy: 1.0\n"
     ]
    },
    {
     "name": "stderr",
     "output_type": "stream",
     "text": [
      "100%|██████████| 65/65 [02:51<00:00,  2.63s/it]\n"
     ]
    },
    {
     "name": "stdout",
     "output_type": "stream",
     "text": [
      "validation loss: 1.4641039371490479, validation accuracy: 1.0\n",
      "Epoch 7/10\n"
     ]
    },
    {
     "name": "stderr",
     "output_type": "stream",
     "text": [
      "100%|██████████| 259/259 [02:31<00:00,  1.71it/s]\n"
     ]
    },
    {
     "name": "stdout",
     "output_type": "stream",
     "text": [
      "Training loss: 0.0037347511388361454, Training accuracy: 1.0\n"
     ]
    },
    {
     "name": "stderr",
     "output_type": "stream",
     "text": [
      "100%|██████████| 65/65 [02:51<00:00,  2.64s/it]\n"
     ]
    },
    {
     "name": "stdout",
     "output_type": "stream",
     "text": [
      "validation loss: 1.4634238481521606, validation accuracy: 1.0\n",
      "Epoch 8/10\n"
     ]
    },
    {
     "name": "stderr",
     "output_type": "stream",
     "text": [
      "100%|██████████| 259/259 [02:29<00:00,  1.73it/s]\n"
     ]
    },
    {
     "name": "stdout",
     "output_type": "stream",
     "text": [
      "Training loss: 0.0031612208113074303, Training accuracy: 1.0\n"
     ]
    },
    {
     "name": "stderr",
     "output_type": "stream",
     "text": [
      "100%|██████████| 65/65 [02:52<00:00,  2.66s/it]\n"
     ]
    },
    {
     "name": "stdout",
     "output_type": "stream",
     "text": [
      "validation loss: 1.4629478454589844, validation accuracy: 1.0\n",
      "Epoch 9/10\n"
     ]
    },
    {
     "name": "stderr",
     "output_type": "stream",
     "text": [
      "100%|██████████| 259/259 [02:34<00:00,  1.67it/s]\n"
     ]
    },
    {
     "name": "stdout",
     "output_type": "stream",
     "text": [
      "Training loss: 0.002528454875573516, Training accuracy: 1.0\n"
     ]
    },
    {
     "name": "stderr",
     "output_type": "stream",
     "text": [
      "100%|██████████| 65/65 [02:50<00:00,  2.63s/it]\n"
     ]
    },
    {
     "name": "stdout",
     "output_type": "stream",
     "text": [
      "validation loss: 1.4626054763793945, validation accuracy: 1.0\n",
      "Epoch 10/10\n"
     ]
    },
    {
     "name": "stderr",
     "output_type": "stream",
     "text": [
      "100%|██████████| 259/259 [02:29<00:00,  1.73it/s]\n"
     ]
    },
    {
     "name": "stdout",
     "output_type": "stream",
     "text": [
      "Training loss: 0.0021529989317059517, Training accuracy: 1.0\n"
     ]
    },
    {
     "name": "stderr",
     "output_type": "stream",
     "text": [
      "100%|██████████| 65/65 [02:53<00:00,  2.67s/it]"
     ]
    },
    {
     "name": "stdout",
     "output_type": "stream",
     "text": [
      "validation loss: 1.462345838546753, validation accuracy: 1.0\n"
     ]
    },
    {
     "name": "stderr",
     "output_type": "stream",
     "text": [
      "\n"
     ]
    }
   ],
   "source": [
    "train_loss_plot = []\n",
    "val_loss_plot = []\n",
    "train_acc_plot = []\n",
    "val_acc_plot = []\n",
    "for epoch in range(epochs):\n",
    "    print(f\"Epoch {epoch+1}/{epochs}\")\n",
    "    correct = 0\n",
    "    total = 0\n",
    "\n",
    "    model.train()\n",
    "    torch.backends.cudnn.benchmark = True\n",
    "    correct_predictions = 0\n",
    "    for batch in tqdm(train_dataloader):\n",
    "        losses = []\n",
    "        optimizer.zero_grad()\n",
    "        with torch.cuda.amp.autocast():\n",
    "\n",
    "            batch_ids = batch[\"input_ids\"].to(device, non_blocking = True)\n",
    "            batch_mask = batch[\"attention_mask\"].to(device, non_blocking = True)\n",
    "\n",
    "            output = model(batch_ids, batch_mask) \n",
    "            output = output['logits'].squeeze(-1).to(torch.float32)\n",
    "            \n",
    "\n",
    "            output_probs = torch.softmax(output, dim=1)\n",
    "            _, predicted = torch.max(output_probs, 1)\n",
    "            \n",
    "            # print(output_probs.shape)\n",
    "\n",
    "            batch_labels = batch['labels'].to(device, non_blocking = True) \n",
    "            # print(f\"output is: {output.shape}, labels are: {batch_labels}\")\n",
    "            \n",
    "\n",
    "            loss = loss_fn(output, batch_labels)\n",
    "            losses.append(loss.item())\n",
    "            # preds = torch.max(output_probs)\n",
    "            # print(output_probs)\n",
    "        \n",
    "            # correct_predictions += torch.sum(preds == batch_labels)\n",
    "        loss.backward()\n",
    "        optimizer.step()\n",
    "        total += batch_labels.size(0)\n",
    "        correct += (predicted == batch_labels).sum().item()\n",
    "            \n",
    "\n",
    "    avg_train_loss = np.mean(losses)\n",
    "    training_accuracy = correct / total\n",
    "    # correctness = correct_predictions.detach().cpu().numpy()\n",
    "    # train_accuracy = correctness/(len(train_labels))\n",
    "    train_loss_plot.append(avg_train_loss)\n",
    "    train_acc_plot.append(training_accuracy)\n",
    "    print(f\"Training loss: {avg_train_loss}, Training accuracy: {training_accuracy}\")\n",
    "\n",
    "\n",
    "    # validation\n",
    "    model.eval()\n",
    "    correct_val = 0\n",
    "    total_val = 0\n",
    "    all_output_probs = []\n",
    "\n",
    "    for batch in tqdm(valid_dataloader):\n",
    "        losses = []\n",
    "        batch_ids = batch[\"input_ids\"].to(device, non_blocking = True)\n",
    "        batch_mask = batch[\"attention_mask\"].to(device, non_blocking = True)\n",
    "        with torch.no_grad():\n",
    "            output = model(batch_ids, batch_mask)\n",
    "        \n",
    "        output = output['logits'].squeeze(-1).to(torch.float32)\n",
    "        \n",
    "        output_probs = torch.softmax(output, dim=1)\n",
    "\n",
    "        # preds = torch.max(output_probs)\n",
    "        _, predicted = torch.max(output_probs, 1)\n",
    "\n",
    "        batch_labels = batch['labels'].to(device, non_blocking = True) \n",
    "\n",
    "        loss = loss_fn(output_probs, batch_labels)\n",
    "        losses.append(loss.item())\n",
    "\n",
    "        # all_output_probs.extend(output_probs.detach().cpu().numpy())\n",
    "        total_val += batch_labels.size(0)\n",
    "        correct_val += (predicted == batch_labels).sum().item()\n",
    "        # correct_predictions += torch.sum(preds == batch_labels)\n",
    "    \n",
    "    avg_val_loss = np.mean(losses)\n",
    "    val_accuracy = correct_val / total_val\n",
    "    # correctness = correct_predictions.detach().cpu().numpy()\n",
    "    # val_accuracy = correctness/(len(train_labels))\n",
    "\n",
    "\n",
    "\n",
    "    # accuracy = accuracy_score(labels, preds)\n",
    "    val_loss_plot.append(avg_val_loss)\n",
    "    val_acc_plot.append(val_accuracy)\n",
    "    print(f\"validation loss: {avg_val_loss}, validation accuracy: {val_accuracy}\")"
   ]
  },
  {
   "cell_type": "code",
   "execution_count": 21,
   "metadata": {},
   "outputs": [
    {
     "data": {
      "image/png": "[encoded data removed]",
      "text/plain": [
       "<Figure size 640x480 with 1 Axes>"
      ]
     },
     "metadata": {},
     "output_type": "display_data"
    }
   ],
   "source": [
    "\n",
    "plt.plot(train_loss_plot, label='training loss', color='blue', marker='o')  # First line\n",
    "plt.plot(val_loss_plot, label='validation loss', color='red', linestyle='--', marker='s')  # Second line\n",
    "\n",
    "# Adding details\n",
    "plt.title(\"loss graph\")\n",
    "plt.xlabel(\"Epochs\")\n",
    "plt.ylabel(\"loss\")\n",
    "plt.legend()  # Add legend to distinguish lines\n",
    "plt.grid(True)\n",
    "plt.show()"
   ]
  },
  {
   "cell_type": "code",
   "execution_count": 22,
   "metadata": {},
   "outputs": [
    {
     "data": {
      "image/png": "[encoded data removed]",
      "text/plain": [
       "<Figure size 640x480 with 1 Axes>"
      ]
     },
     "metadata": {},
     "output_type": "display_data"
    }
   ],
   "source": [
    "plt.plot(train_acc_plot, label='training loss', color='blue', marker='o')  # First line\n",
    "plt.plot(val_acc_plot, label='validation loss', color='red', linestyle='--', marker='s')  # Second line\n",
    "\n",
    "# Adding details\n",
    "plt.title(\"accuracy graph\")\n",
    "plt.xlabel(\"Epochs\")\n",
    "plt.ylabel(\"accuracy\")\n",
    "plt.legend()  # Add legend to distinguish lines\n",
    "plt.grid(True)\n",
    "plt.show()"
   ]
  },
  {
   "cell_type": "markdown",
   "metadata": {},
   "source": [
    "### Test trained model"
   ]
  },
  {
   "cell_type": "code",
   "execution_count": 24,
   "metadata": {},
   "outputs": [
    {
     "name": "stderr",
     "output_type": "stream",
     "text": [
      "Some weights of BertForSequenceClassification were not initialized from the model checkpoint at bert-base-uncased and are newly initialized: ['classifier.bias', 'classifier.weight']\n",
      "You should probably TRAIN this model on a down-stream task to be able to use it for predictions and inference.\n"
     ]
    },
    {
     "data": {
      "text/plain": [
       "BertForSequenceClassification(\n",
       "  (bert): BertModel(\n",
       "    (embeddings): BertEmbeddings(\n",
       "      (word_embeddings): Embedding(30522, 768, padding_idx=0)\n",
       "      (position_embeddings): Embedding(512, 768)\n",
       "      (token_type_embeddings): Embedding(2, 768)\n",
       "      (LayerNorm): LayerNorm((768,), eps=1e-12, elementwise_affine=True)\n",
       "      (dropout): Dropout(p=0.1, inplace=False)\n",
       "    )\n",
       "    (encoder): BertEncoder(\n",
       "      (layer): ModuleList(\n",
       "        (0-11): 12 x BertLayer(\n",
       "          (attention): BertAttention(\n",
       "            (self): BertSelfAttention(\n",
       "              (query): Linear(in_features=768, out_features=768, bias=True)\n",
       "              (key): Linear(in_features=768, out_features=768, bias=True)\n",
       "              (value): Linear(in_features=768, out_features=768, bias=True)\n",
       "              (dropout): Dropout(p=0.1, inplace=False)\n",
       "            )\n",
       "            (output): BertSelfOutput(\n",
       "              (dense): Linear(in_features=768, out_features=768, bias=True)\n",
       "              (LayerNorm): LayerNorm((768,), eps=1e-12, elementwise_affine=True)\n",
       "              (dropout): Dropout(p=0.1, inplace=False)\n",
       "            )\n",
       "          )\n",
       "          (intermediate): BertIntermediate(\n",
       "            (dense): Linear(in_features=768, out_features=3072, bias=True)\n",
       "            (intermediate_act_fn): GELUActivation()\n",
       "          )\n",
       "          (output): BertOutput(\n",
       "            (dense): Linear(in_features=3072, out_features=768, bias=True)\n",
       "            (LayerNorm): LayerNorm((768,), eps=1e-12, elementwise_affine=True)\n",
       "            (dropout): Dropout(p=0.1, inplace=False)\n",
       "          )\n",
       "        )\n",
       "      )\n",
       "    )\n",
       "    (pooler): BertPooler(\n",
       "      (dense): Linear(in_features=768, out_features=768, bias=True)\n",
       "      (activation): Tanh()\n",
       "    )\n",
       "  )\n",
       "  (dropout): Dropout(p=0.1, inplace=False)\n",
       "  (classifier): Linear(in_features=768, out_features=10, bias=True)\n",
       ")"
      ]
     },
     "execution_count": 24,
     "metadata": {},
     "output_type": "execute_result"
    }
   ],
   "source": [
    "# load model: \n",
    "model = BertForSequenceClassification.from_pretrained('bert-base-uncased', num_labels=10)\n",
    "\n",
    "# Load the state dictionary\n",
    "state_dict = torch.load('Bert_state.pth')\n",
    "\n",
    "# Load the weights into the model\n",
    "model.load_state_dict(state_dict)\n",
    "\n",
    "# Set the model to evaluation mode (if you're using it for inference)\n",
    "model.eval()"
   ]
  },
  {
   "cell_type": "code",
   "execution_count": 25,
   "metadata": {},
   "outputs": [],
   "source": [
    "# process the input dataset\n",
    "words = pd.read_csv('./datasets/test_words.txt', header=None, names=['sentences'])\n",
    "test_txt = words['sentences'].tolist()\n",
    "# for text in input_txt:\n",
    "#     print(text)\n",
    "test_len = len(test_txt)\n",
    "test_tokens = tokenizer(test_txt, padding='max_length', truncation=True, max_length=128, return_tensors=\"pt\")\n",
    "# print(len(test_tokens['input_ids']))\n",
    "test_dataset = BertDataSet(test_tokens,length=test_len, is_test=True)\n",
    "test_dataloader = dataloader.DataLoader(test_dataset, batch_size=1, shuffle=False)\n",
    "\n",
    "# print(len(test_dataloader))\n",
    "    # break\n",
    "    \n",
    "# print(test_input)"
   ]
  },
  {
   "cell_type": "code",
   "execution_count": 26,
   "metadata": {},
   "outputs": [],
   "source": [
    "correct_val = 0\n",
    "total_val = 0\n",
    "all_output_probs = []\n",
    "output_dir = './output/output.txt'\n",
    "with open (output_dir, 'w') as f:\n",
    "    for batch in test_dataloader:\n",
    "        losses = []\n",
    "        batch_ids = batch[\"input_ids\"]\n",
    "        batch_mask = batch[\"attention_mask\"]\n",
    "        with torch.no_grad():\n",
    "            output = model(batch_ids, batch_mask)\n",
    "        \n",
    "        output = output['logits'].squeeze(-1).to(torch.float32)\n",
    "        \n",
    "        output_probs = torch.softmax(output, dim=1)\n",
    "\n",
    "        # preds = torch.max(output_probs)\n",
    "        _, predicted = torch.max(output_probs, 1)\n",
    "        f.write(f\"{labels[predicted.item()]}\\n\")"
   ]
  }
 ],
 "metadata": {
  "kernelspec": {
   "display_name": "base",
   "language": "python",
   "name": "python3"
  },
  "language_info": {
   "codemirror_mode": {
    "name": "ipython",
    "version": 3
   },
   "file_extension": ".py",
   "mimetype": "text/x-python",
   "name": "python",
   "nbconvert_exporter": "python",
   "pygments_lexer": "ipython3",
   "version": "3.12.2"
  }
 },
 "nbformat": 4,
 "nbformat_minor": 2
}
