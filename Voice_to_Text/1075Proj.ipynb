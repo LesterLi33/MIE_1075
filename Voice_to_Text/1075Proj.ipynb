{
 "cells": [
  {
   "cell_type": "code",
   "execution_count": null,
   "metadata": {
    "colab": {
     "base_uri": "https://localhost:8080/"
    },
    "id": "j_IyhhN5tkTA",
    "outputId": "5cbc4411-9c65-4bf3-bd05-cfd8541cb8c7"
   },
   "outputs": [
    {
     "name": "stdout",
     "output_type": "stream",
     "text": [
      "Collecting assemblyai\n",
      "  Downloading assemblyai-0.34.0-py3-none-any.whl.metadata (27 kB)\n",
      "Collecting httpx>=0.19.0 (from assemblyai)\n",
      "  Downloading httpx-0.27.2-py3-none-any.whl.metadata (7.1 kB)\n",
      "Requirement already satisfied: pydantic!=1.10.7,>=1.7.0 in /usr/local/lib/python3.10/dist-packages (from assemblyai) (2.9.2)\n",
      "Requirement already satisfied: typing-extensions>=3.7 in /usr/local/lib/python3.10/dist-packages (from assemblyai) (4.12.2)\n",
      "Collecting websockets>=11.0 (from assemblyai)\n",
      "  Downloading websockets-13.1-cp310-cp310-manylinux_2_5_x86_64.manylinux1_x86_64.manylinux_2_17_x86_64.manylinux2014_x86_64.whl.metadata (6.8 kB)\n",
      "Requirement already satisfied: anyio in /usr/local/lib/python3.10/dist-packages (from httpx>=0.19.0->assemblyai) (3.7.1)\n",
      "Requirement already satisfied: certifi in /usr/local/lib/python3.10/dist-packages (from httpx>=0.19.0->assemblyai) (2024.8.30)\n",
      "Collecting httpcore==1.* (from httpx>=0.19.0->assemblyai)\n",
      "  Downloading httpcore-1.0.6-py3-none-any.whl.metadata (21 kB)\n",
      "Requirement already satisfied: idna in /usr/local/lib/python3.10/dist-packages (from httpx>=0.19.0->assemblyai) (3.10)\n",
      "Requirement already satisfied: sniffio in /usr/local/lib/python3.10/dist-packages (from httpx>=0.19.0->assemblyai) (1.3.1)\n",
      "Collecting h11<0.15,>=0.13 (from httpcore==1.*->httpx>=0.19.0->assemblyai)\n",
      "  Downloading h11-0.14.0-py3-none-any.whl.metadata (8.2 kB)\n",
      "Requirement already satisfied: annotated-types>=0.6.0 in /usr/local/lib/python3.10/dist-packages (from pydantic!=1.10.7,>=1.7.0->assemblyai) (0.7.0)\n",
      "Requirement already satisfied: pydantic-core==2.23.4 in /usr/local/lib/python3.10/dist-packages (from pydantic!=1.10.7,>=1.7.0->assemblyai) (2.23.4)\n",
      "Requirement already satisfied: exceptiongroup in /usr/local/lib/python3.10/dist-packages (from anyio->httpx>=0.19.0->assemblyai) (1.2.2)\n",
      "Downloading assemblyai-0.34.0-py3-none-any.whl (72 kB)\n",
      "\u001b[2K   \u001b[90m━━━━━━━━━━━━━━━━━━━━━━━━━━━━━━━━━━━━━━━━\u001b[0m \u001b[32m72.6/72.6 kB\u001b[0m \u001b[31m3.2 MB/s\u001b[0m eta \u001b[36m0:00:00\u001b[0m\n",
      "\u001b[?25hDownloading httpx-0.27.2-py3-none-any.whl (76 kB)\n",
      "\u001b[2K   \u001b[90m━━━━━━━━━━━━━━━━━━━━━━━━━━━━━━━━━━━━━━━━\u001b[0m \u001b[32m76.4/76.4 kB\u001b[0m \u001b[31m4.8 MB/s\u001b[0m eta \u001b[36m0:00:00\u001b[0m\n",
      "\u001b[?25hDownloading httpcore-1.0.6-py3-none-any.whl (78 kB)\n",
      "\u001b[2K   \u001b[90m━━━━━━━━━━━━━━━━━━━━━━━━━━━━━━━━━━━━━━━━\u001b[0m \u001b[32m78.0/78.0 kB\u001b[0m \u001b[31m5.0 MB/s\u001b[0m eta \u001b[36m0:00:00\u001b[0m\n",
      "\u001b[?25hDownloading websockets-13.1-cp310-cp310-manylinux_2_5_x86_64.manylinux1_x86_64.manylinux_2_17_x86_64.manylinux2014_x86_64.whl (164 kB)\n",
      "\u001b[2K   \u001b[90m━━━━━━━━━━━━━━━━━━━━━━━━━━━━━━━━━━━━━━━━\u001b[0m \u001b[32m164.1/164.1 kB\u001b[0m \u001b[31m9.8 MB/s\u001b[0m eta \u001b[36m0:00:00\u001b[0m\n",
      "\u001b[?25hDownloading h11-0.14.0-py3-none-any.whl (58 kB)\n",
      "\u001b[2K   \u001b[90m━━━━━━━━━━━━━━━━━━━━━━━━━━━━━━━━━━━━━━━━\u001b[0m \u001b[32m58.3/58.3 kB\u001b[0m \u001b[31m3.2 MB/s\u001b[0m eta \u001b[36m0:00:00\u001b[0m\n",
      "\u001b[?25hInstalling collected packages: websockets, h11, httpcore, httpx, assemblyai\n",
      "Successfully installed assemblyai-0.34.0 h11-0.14.0 httpcore-1.0.6 httpx-0.27.2 websockets-13.1\n"
     ]
    }
   ],
   "source": [
    "pip install assemblyai"
   ]
  },
  {
   "cell_type": "code",
   "execution_count": 7,
   "metadata": {
    "colab": {
     "base_uri": "https://localhost:8080/"
    },
    "id": "WiOlDfzWnS91",
    "outputId": "1f0117cc-f875-4e63-a4d8-032125481656"
   },
   "outputs": [
    {
     "name": "stdout",
     "output_type": "stream",
     "text": [
      "Transcription completed and saved to combined_transcription.txt\n"
     ]
    }
   ],
   "source": [
    "# Start by making sure the `assemblyai` package is installed.\n",
    "# If not, you can install it by running the following command:\n",
    "# pip install -U assemblyai\n",
    "#\n",
    "# Note: Some macOS users may need to use `pip3` instead of `pip`.\n",
    "\n",
    "import assemblyai as aai\n",
    "\n",
    "# Replace with your API key\n",
    "aai.settings.api_key = \"791314ebf2454220bca095ebf10fceeb\"\n",
    "\n",
    "# URL of the file to transcribe\n",
    "# FILE_URL = \"https://assembly.ai/wildfires.mp3\"\n",
    "\n",
    "# You can also transcribe a local file by passing in a file path\n",
    "audio_files = ['/content/sample_voice_test1.mp3', '/content/sample_voice_test2.mp3', '/content/sample_voice_test3.mp3']\n",
    "\n",
    "# Create a transcriber object\n",
    "transcriber = aai.Transcriber()\n",
    "\n",
    "with open(\"voice_convert_text.txt\", \"w\") as output_file:\n",
    "    for file_path in audio_files:\n",
    "        # Transcribe each file\n",
    "        transcript = transcriber.transcribe(file_path)\n",
    "\n",
    "        # Write the transcription result to the text file\n",
    "        output_file.write(transcript.text + \"\\n\")  # Add spacing between transcriptions\n",
    "\n",
    "print(\"Transcription completed and saved to combined_transcription.txt\")\n",
    "\n",
    "\n"
   ]
  }
 ],
 "metadata": {
  "colab": {
   "provenance": []
  },
  "kernelspec": {
   "display_name": "Python 3",
   "name": "python3"
  },
  "language_info": {
   "name": "python"
  }
 },
 "nbformat": 4,
 "nbformat_minor": 0
}
