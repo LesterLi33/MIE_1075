{
  "nbformat": 4,
  "nbformat_minor": 0,
  "metadata": {
    "colab": {
      "provenance": []
    },
    "kernelspec": {
      "name": "python3",
      "display_name": "Python 3"
    },
    "language_info": {
      "name": "python"
    }
  },
  "cells": [
    {
      "cell_type": "code",
      "source": [
        "!pip install assemblyai\n",
        "!pip install langid\n",
        "!pip install deep_translator\n",
        "\n",
        "\n",
        "import assemblyai as aai\n",
        "import langid\n",
        "from deep_translator import GoogleTranslator"
      ],
      "metadata": {
        "colab": {
          "base_uri": "https://localhost:8080/"
        },
        "id": "j_IyhhN5tkTA",
        "outputId": "9b9e4122-e0f0-4238-a04d-52d7bdae13d5"
      },
      "execution_count": 34,
      "outputs": [
        {
          "output_type": "stream",
          "name": "stdout",
          "text": [
            "Requirement already satisfied: assemblyai in /usr/local/lib/python3.10/dist-packages (0.35.1)\n",
            "Requirement already satisfied: httpx>=0.19.0 in /usr/local/lib/python3.10/dist-packages (from assemblyai) (0.28.1)\n",
            "Requirement already satisfied: pydantic>=1.10.17 in /usr/local/lib/python3.10/dist-packages (from assemblyai) (2.10.3)\n",
            "Requirement already satisfied: typing-extensions>=3.7 in /usr/local/lib/python3.10/dist-packages (from assemblyai) (4.12.2)\n",
            "Requirement already satisfied: websockets>=11.0 in /usr/local/lib/python3.10/dist-packages (from assemblyai) (14.1)\n",
            "Requirement already satisfied: anyio in /usr/local/lib/python3.10/dist-packages (from httpx>=0.19.0->assemblyai) (3.7.1)\n",
            "Requirement already satisfied: certifi in /usr/local/lib/python3.10/dist-packages (from httpx>=0.19.0->assemblyai) (2024.8.30)\n",
            "Requirement already satisfied: httpcore==1.* in /usr/local/lib/python3.10/dist-packages (from httpx>=0.19.0->assemblyai) (1.0.7)\n",
            "Requirement already satisfied: idna in /usr/local/lib/python3.10/dist-packages (from httpx>=0.19.0->assemblyai) (2.10)\n",
            "Requirement already satisfied: h11<0.15,>=0.13 in /usr/local/lib/python3.10/dist-packages (from httpcore==1.*->httpx>=0.19.0->assemblyai) (0.14.0)\n",
            "Requirement already satisfied: annotated-types>=0.6.0 in /usr/local/lib/python3.10/dist-packages (from pydantic>=1.10.17->assemblyai) (0.7.0)\n",
            "Requirement already satisfied: pydantic-core==2.27.1 in /usr/local/lib/python3.10/dist-packages (from pydantic>=1.10.17->assemblyai) (2.27.1)\n",
            "Requirement already satisfied: sniffio>=1.1 in /usr/local/lib/python3.10/dist-packages (from anyio->httpx>=0.19.0->assemblyai) (1.3.1)\n",
            "Requirement already satisfied: exceptiongroup in /usr/local/lib/python3.10/dist-packages (from anyio->httpx>=0.19.0->assemblyai) (1.2.2)\n",
            "Requirement already satisfied: langid in /usr/local/lib/python3.10/dist-packages (1.1.6)\n",
            "Requirement already satisfied: numpy in /usr/local/lib/python3.10/dist-packages (from langid) (1.26.4)\n",
            "Requirement already satisfied: deep_translator in /usr/local/lib/python3.10/dist-packages (1.11.4)\n",
            "Requirement already satisfied: beautifulsoup4<5.0.0,>=4.9.1 in /usr/local/lib/python3.10/dist-packages (from deep_translator) (4.12.3)\n",
            "Requirement already satisfied: requests<3.0.0,>=2.23.0 in /usr/local/lib/python3.10/dist-packages (from deep_translator) (2.32.3)\n",
            "Requirement already satisfied: soupsieve>1.2 in /usr/local/lib/python3.10/dist-packages (from beautifulsoup4<5.0.0,>=4.9.1->deep_translator) (2.6)\n",
            "Requirement already satisfied: charset-normalizer<4,>=2 in /usr/local/lib/python3.10/dist-packages (from requests<3.0.0,>=2.23.0->deep_translator) (3.4.0)\n",
            "Requirement already satisfied: idna<4,>=2.5 in /usr/local/lib/python3.10/dist-packages (from requests<3.0.0,>=2.23.0->deep_translator) (2.10)\n",
            "Requirement already satisfied: urllib3<3,>=1.21.1 in /usr/local/lib/python3.10/dist-packages (from requests<3.0.0,>=2.23.0->deep_translator) (2.2.3)\n",
            "Requirement already satisfied: certifi>=2017.4.17 in /usr/local/lib/python3.10/dist-packages (from requests<3.0.0,>=2.23.0->deep_translator) (2024.8.30)\n"
          ]
        }
      ]
    },
    {
      "cell_type": "code",
      "execution_count": 43,
      "metadata": {
        "colab": {
          "base_uri": "https://localhost:8080/"
        },
        "id": "WiOlDfzWnS91",
        "outputId": "820efb53-f33f-420a-bc91-01a7a41c0809"
      },
      "outputs": [
        {
          "output_type": "stream",
          "name": "stdout",
          "text": [
            "The text convert from the voice file is: 你好我想知道牛奶放在什么地方\n"
          ]
        }
      ],
      "source": [
        "aai.settings.api_key = \"791314ebf2454220bca095ebf10fceeb\"\n",
        "\n",
        "audio_files = ['/content/sample_voice_test6.m4a']\n",
        "\n",
        "config = aai.TranscriptionConfig(language_detection=True)\n",
        "\n",
        "transcriber = aai.Transcriber(config=config)\n",
        "\n",
        "with open(\"voice_convert_text.txt\", \"w\") as output_file:\n",
        "    for file_path in audio_files:\n",
        "        # Transcribe each file\n",
        "        transcript = transcriber.transcribe(file_path)\n",
        "\n",
        "        output_file.write(transcript.text + \"\\n\")\n",
        "        print(f\"The text convert from the voice file is: {transcript.text}\")\n",
        "\n",
        "\n"
      ]
    },
    {
      "cell_type": "code",
      "source": [
        "input_file = 'voice_convert_text.txt'\n",
        "\n",
        "\n",
        "with open(input_file, 'r', encoding='utf-8') as file:\n",
        "  text = file.read()\n",
        "\n",
        "# Detect language\n",
        "lang, confidence = langid.classify(text)\n",
        "\n",
        "if lang == \"zh\":\n",
        "  lang = \"zh-CN\"\n",
        "\n",
        "if lang != \"en\":\n",
        "  translated_text = GoogleTranslator(source=lang, target='en').translate(text)\n",
        "  print(f\"Translated Text: {translated_text}\")\n",
        "\n",
        "  with open(\"voice_convert_text_translated.txt\", \"w\", encoding=\"utf-8\") as file:\n",
        "    file.write(translated_text)\n",
        "else:\n",
        "  print(\"No translation needed.\")\n",
        "\n"
      ],
      "metadata": {
        "colab": {
          "base_uri": "https://localhost:8080/"
        },
        "id": "4sEvhdPNnF00",
        "outputId": "292a1383-ce23-4d85-c572-21141a88ede5"
      },
      "execution_count": 44,
      "outputs": [
        {
          "output_type": "stream",
          "name": "stdout",
          "text": [
            "Translated Text: Hi, I want to know where the milk is.\n"
          ]
        }
      ]
    }
  ]
}